{
 "cells": [
  {
   "cell_type": "code",
   "execution_count": 1,
   "id": "c82b09f4",
   "metadata": {},
   "outputs": [],
   "source": [
    "import pyspark\n",
    "from pyspark.sql import SparkSession\n",
    "\n",
    "spark = SparkSession.builder \\\n",
    "    .master(\"local[*]\") \\\n",
    "    .appName('test_groupby') \\\n",
    "    .config(\"spark.ui.port\", \"4042\") \\\n",
    "    .getOrCreate()\n"
   ]
  },
  {
   "cell_type": "code",
   "execution_count": 61,
   "id": "e2ec2810",
   "metadata": {},
   "outputs": [],
   "source": [
    "df_green = spark.read.csv('data/raw/green/*/*', header=True, inferSchema=True)\n",
    "df_yellow = spark.read.csv('data/raw/yellow/*/*', header=True, inferSchema=True)"
   ]
  },
  {
   "cell_type": "code",
   "execution_count": 3,
   "id": "4604f42f",
   "metadata": {},
   "outputs": [],
   "source": [
    "df_green.createOrReplaceTempView(\"green\")"
   ]
  },
  {
   "cell_type": "code",
   "execution_count": 6,
   "id": "54b0971d",
   "metadata": {},
   "outputs": [],
   "source": [
    "df_green_revenue = spark.sql(\"\"\"\n",
    "SELECT \n",
    "    date_trunc('hour', lpep_pickup_datetime) AS hour, \n",
    "    PULocationID AS zone,\n",
    "\n",
    "    SUM(total_amount) AS amount,\n",
    "    COUNT(1) AS number_records\n",
    "FROM\n",
    "    green\n",
    "WHERE\n",
    "    lpep_pickup_datetime >= '2020-01-01 00:00:00'\n",
    "GROUP BY\n",
    "    1, 2  \n",
    "\"\"\")"
   ]
  },
  {
   "cell_type": "code",
   "execution_count": 7,
   "id": "4f0570b7",
   "metadata": {},
   "outputs": [
    {
     "name": "stdout",
     "output_type": "stream",
     "text": [
      "+-------------------+----+------------------+--------------+\n",
      "|               hour|zone|            amount|number_records|\n",
      "+-------------------+----+------------------+--------------+\n",
      "|2020-01-01 00:00:00|  65|            199.49|            10|\n",
      "|2020-01-01 02:00:00|  17|            200.03|            11|\n",
      "|2020-01-01 10:00:00|  70|              30.8|             1|\n",
      "|2020-01-01 11:00:00| 181|             49.64|             5|\n",
      "|2020-01-02 03:00:00|   7|               9.8|             1|\n",
      "|2020-01-02 06:00:00|   7|              53.1|             2|\n",
      "|2020-01-02 06:00:00| 169|            104.09|             3|\n",
      "|2020-01-02 07:00:00|  42|327.32000000000005|            21|\n",
      "|2020-01-02 08:00:00| 174|50.309999999999995|             3|\n",
      "|2020-01-02 10:00:00|  66|             97.67|             5|\n",
      "|2020-01-02 12:00:00|  26|            280.47|            13|\n",
      "|2020-01-02 13:00:00|  89|            121.85|             6|\n",
      "|2020-01-02 14:00:00|  74|1029.3399999999995|            68|\n",
      "|2020-01-02 16:00:00| 236|             16.01|             1|\n",
      "|2020-01-02 16:00:00|  66|257.00000000000006|            12|\n",
      "|2020-01-02 20:00:00|  81|              10.3|             1|\n",
      "|2020-01-03 09:00:00| 223|            131.51|            12|\n",
      "|2020-01-03 09:00:00| 222|            359.22|            11|\n",
      "|2020-01-03 13:00:00|  74| 726.8199999999997|            54|\n",
      "|2020-01-03 15:00:00|  67|417.66999999999996|             9|\n",
      "+-------------------+----+------------------+--------------+\n",
      "only showing top 20 rows\n",
      "\n"
     ]
    }
   ],
   "source": [
    "df_green_revenue.show()"
   ]
  },
  {
   "cell_type": "code",
   "execution_count": 8,
   "id": "21f1a87e",
   "metadata": {},
   "outputs": [],
   "source": [
    "df_green_revenue = df_green.filter(\"lpep_pickup_datetime >= '2020-01-01 00:00:00'\") \\\n",
    "    .withColumn(\"hour\", F.date_trunc(\"hour\", \"lpep_pickup_datetime\")) \\\n",
    "    .groupBy(\"hour\", \"PULocationID\") \\\n",
    "    .agg({\"total_amount\": \"sum\", \"*\": \"count\"}) \\\n",
    "    .withColumnRenamed(\"sum(total_amount)\", \"amount\") \\\n",
    "    .withColumnRenamed(\"count(1)\", \"number_records\") \\\n",
    "    .orderBy(\"hour\",\"PULocationID\") \n",
    "\n"
   ]
  },
  {
   "cell_type": "code",
   "execution_count": 75,
   "id": "6281545f",
   "metadata": {},
   "outputs": [],
   "source": [
    "df_green_revenue.write.parquet('data/report/revenue/green', mode=\"overwrite\")"
   ]
  },
  {
   "cell_type": "code",
   "execution_count": 66,
   "id": "0af9a918",
   "metadata": {},
   "outputs": [
    {
     "data": {
      "text/plain": [
       "['VendorID',\n",
       " 'tpep_pickup_datetime',\n",
       " 'tpep_dropoff_datetime',\n",
       " 'passenger_count',\n",
       " 'trip_distance',\n",
       " 'RatecodeID',\n",
       " 'store_and_fwd_flag',\n",
       " 'PULocationID',\n",
       " 'DOLocationID',\n",
       " 'payment_type',\n",
       " 'fare_amount',\n",
       " 'extra',\n",
       " 'mta_tax',\n",
       " 'tip_amount',\n",
       " 'tolls_amount',\n",
       " 'improvement_surcharge',\n",
       " 'total_amount',\n",
       " 'congestion_surcharge']"
      ]
     },
     "execution_count": 66,
     "metadata": {},
     "output_type": "execute_result"
    }
   ],
   "source": [
    "df_yellow.columns"
   ]
  },
  {
   "cell_type": "code",
   "execution_count": 71,
   "id": "63bfe841",
   "metadata": {},
   "outputs": [],
   "source": [
    "df_yellow_revenue = df_yellow.filter(\"tpep_pickup_datetime >= '2020-01-01 00:00:00'\") \\\n",
    "    .withColumn(\"hour\", F.date_trunc(\"hour\", \"tpep_pickup_datetime\")) \\\n",
    "    .groupBy(\"hour\", \"PULocationID\") \\\n",
    "    .agg({\"total_amount\": \"sum\", \"*\": \"count\"}) \\\n",
    "    .withColumnRenamed(\"sum(total_amount)\", \"amount\") \\\n",
    "    .withColumnRenamed(\"count(1)\", \"number_records\") \\\n",
    "    .orderBy(\"hour\",\"PULocationID\") "
   ]
  },
  {
   "cell_type": "code",
   "execution_count": 73,
   "id": "c48499d9",
   "metadata": {},
   "outputs": [],
   "source": [
    "df_yellow_revenue.write.parquet('data/report/revenue/yellow', mode=\"overwrite\")"
   ]
  },
  {
   "cell_type": "code",
   "execution_count": 77,
   "id": "03f02fdc",
   "metadata": {},
   "outputs": [],
   "source": [
    "df_green_revenue_tmp = df_green_revenue \\\n",
    "    .withColumnRenamed('amount', 'green_amount') \\\n",
    "    .withColumnRenamed('number_records', 'green_number_records')\n",
    "\n",
    "df_yellow_revenue_tmp = df_yellow_revenue \\\n",
    "    .withColumnRenamed('amount', 'yellow_amount') \\\n",
    "    .withColumnRenamed('number_records', 'yellow_number_records')"
   ]
  },
  {
   "cell_type": "code",
   "execution_count": 80,
   "id": "b4d335b3",
   "metadata": {},
   "outputs": [],
   "source": [
    "df_join = df_green_revenue_tmp.join(df_yellow_revenue_tmp, on=['hour', 'PULocationID'], how='outer')"
   ]
  },
  {
   "cell_type": "code",
   "execution_count": 82,
   "id": "d5bfd9f3",
   "metadata": {},
   "outputs": [],
   "source": [
    "df_join.write.parquet('data/report/revenue/total', mode='overwrite')"
   ]
  },
  {
   "cell_type": "code",
   "execution_count": 84,
   "id": "4654abc8",
   "metadata": {},
   "outputs": [
    {
     "name": "stderr",
     "output_type": "stream",
     "text": [
      "--2023-03-02 23:29:23--  https://s3.amazonaws.com/nyc-tlc/misc/taxi+_zone_lookup.csv\n",
      "Resolving s3.amazonaws.com (s3.amazonaws.com)... 52.217.206.168, 54.231.171.216, 54.231.226.32, ...\n",
      "Connecting to s3.amazonaws.com (s3.amazonaws.com)|52.217.206.168|:443... connected.\n",
      "HTTP request sent, awaiting response... 200 OK\n",
      "Length: 12322 (12K) [application/octet-stream]\n",
      "Saving to: 'taxi+_zone_lookup.csv.1'\n",
      "\n",
      "     0K .......... ..                                         100% 2,10M=0,006s\n",
      "\n",
      "2023-03-02 23:29:23 (2,10 MB/s) - 'taxi+_zone_lookup.csv.1' saved [12322/12322]\n",
      "\n"
     ]
    }
   ],
   "source": [
    "!wget https://s3.amazonaws.com/nyc-tlc/misc/taxi+_zone_lookup.csv"
   ]
  },
  {
   "cell_type": "code",
   "execution_count": 90,
   "id": "f2ff6bb6",
   "metadata": {},
   "outputs": [
    {
     "name": "stdout",
     "output_type": "stream",
     "text": [
      "+----------+-------------+--------------------+------------+\n",
      "|LocationID|      Borough|                Zone|service_zone|\n",
      "+----------+-------------+--------------------+------------+\n",
      "|         1|          EWR|      Newark Airport|         EWR|\n",
      "|         2|       Queens|         Jamaica Bay|   Boro Zone|\n",
      "|         3|        Bronx|Allerton/Pelham G...|   Boro Zone|\n",
      "|         4|    Manhattan|       Alphabet City| Yellow Zone|\n",
      "|         5|Staten Island|       Arden Heights|   Boro Zone|\n",
      "|         6|Staten Island|Arrochar/Fort Wad...|   Boro Zone|\n",
      "|         7|       Queens|             Astoria|   Boro Zone|\n",
      "|         8|       Queens|        Astoria Park|   Boro Zone|\n",
      "|         9|       Queens|          Auburndale|   Boro Zone|\n",
      "|        10|       Queens|        Baisley Park|   Boro Zone|\n",
      "|        11|     Brooklyn|          Bath Beach|   Boro Zone|\n",
      "|        12|    Manhattan|        Battery Park| Yellow Zone|\n",
      "|        13|    Manhattan|   Battery Park City| Yellow Zone|\n",
      "|        14|     Brooklyn|           Bay Ridge|   Boro Zone|\n",
      "|        15|       Queens|Bay Terrace/Fort ...|   Boro Zone|\n",
      "|        16|       Queens|             Bayside|   Boro Zone|\n",
      "|        17|     Brooklyn|             Bedford|   Boro Zone|\n",
      "|        18|        Bronx|        Bedford Park|   Boro Zone|\n",
      "|        19|       Queens|           Bellerose|   Boro Zone|\n",
      "|        20|        Bronx|             Belmont|   Boro Zone|\n",
      "+----------+-------------+--------------------+------------+\n",
      "only showing top 20 rows\n",
      "\n"
     ]
    }
   ],
   "source": [
    "\n",
    "df_zones = spark.read \\\n",
    "    .option(\"header\", \"true\") \\\n",
    "    .csv('taxi+_zone_lookup.csv')\n",
    "\n",
    "df_zones.show()"
   ]
  },
  {
   "cell_type": "code",
   "execution_count": 91,
   "id": "0ceb433a",
   "metadata": {},
   "outputs": [],
   "source": [
    "df_result = df_join.join(df_zones, df_join.PULocationID == df_zones.LocationID)\n"
   ]
  },
  {
   "cell_type": "code",
   "execution_count": 95,
   "id": "c342c88a",
   "metadata": {},
   "outputs": [],
   "source": [
    "df_result.drop('LocationID', 'PULocationID').write.parquet('tmp/revenue-zones', mode=\"overwrite\")"
   ]
  },
  {
   "cell_type": "code",
   "execution_count": 97,
   "id": "242307f9",
   "metadata": {},
   "outputs": [],
   "source": [
    "from pyspark.sql.functions import broadcast\n",
    "\n",
    "df_result = df_join.join(broadcast(df_zones), df_join.PULocationID == df_zones.LocationID)\n",
    "df_result.drop('LocationID', 'PULocationID').write.parquet('tmp/revenue-zones', mode=\"overwrite\")"
   ]
  }
 ],
 "metadata": {
  "celltoolbar": "Raw Cell Format",
  "kernelspec": {
   "display_name": "Python 3 (ipykernel)",
   "language": "python",
   "name": "python3"
  },
  "language_info": {
   "codemirror_mode": {
    "name": "ipython",
    "version": 3
   },
   "file_extension": ".py",
   "mimetype": "text/x-python",
   "name": "python",
   "nbconvert_exporter": "python",
   "pygments_lexer": "ipython3",
   "version": "3.11.1"
  }
 },
 "nbformat": 4,
 "nbformat_minor": 5
}
