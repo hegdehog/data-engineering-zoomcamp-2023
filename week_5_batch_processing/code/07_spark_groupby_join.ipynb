{
 "cells": [
  {
   "cell_type": "code",
   "execution_count": 1,
   "id": "c82b09f4",
   "metadata": {},
   "outputs": [],
   "source": [
    "import pyspark\n",
    "from pyspark.sql import SparkSession\n",
    "\n",
    "spark = SparkSession.builder \\\n",
    "    .master(\"local[*]\") \\\n",
    "    .appName('test_groupby') \\\n",
    "    .config(\"spark.ui.port\", \"4042\") \\\n",
    "    .getOrCreate()\n"
   ]
  },
  {
   "cell_type": "code",
   "execution_count": 61,
   "id": "e2ec2810",
   "metadata": {},
   "outputs": [],
   "source": [
    "df_green = spark.read.csv('data/raw/green/*/*', header=True, inferSchema=True)\n",
    "df_yellow = spark.read.csv('data/raw/yellow/*/*', header=True, inferSchema=True)"
   ]
  },
  {
   "cell_type": "code",
   "execution_count": 3,
   "id": "4604f42f",
   "metadata": {},
   "outputs": [],
   "source": [
    "df_green.createOrReplaceTempView(\"green\")"
   ]
  },
  {
   "cell_type": "code",
   "execution_count": 6,
   "id": "54b0971d",
   "metadata": {},
   "outputs": [],
   "source": [
    "df_green_revenue = spark.sql(\"\"\"\n",
    "SELECT \n",
    "    date_trunc('hour', lpep_pickup_datetime) AS hour, \n",
    "    PULocationID AS zone,\n",
    "\n",
    "    SUM(total_amount) AS amount,\n",
    "    COUNT(1) AS number_records\n",
    "FROM\n",
    "    green\n",
    "WHERE\n",
    "    lpep_pickup_datetime >= '2020-01-01 00:00:00'\n",
    "GROUP BY\n",
    "    1, 2  \n",
    "\"\"\")"
   ]
  },
  {
   "cell_type": "code",
   "execution_count": 7,
   "id": "4f0570b7",
   "metadata": {},
   "outputs": [
    {
     "name": "stdout",
     "output_type": "stream",
     "text": [
      "+-------------------+----+------------------+--------------+\n",
      "|               hour|zone|            amount|number_records|\n",
      "+-------------------+----+------------------+--------------+\n",
      "|2020-01-01 00:00:00|  65|            199.49|            10|\n",
      "|2020-01-01 02:00:00|  17|            200.03|            11|\n",
      "|2020-01-01 10:00:00|  70|              30.8|             1|\n",
      "|2020-01-01 11:00:00| 181|             49.64|             5|\n",
      "|2020-01-02 03:00:00|   7|               9.8|             1|\n",
      "|2020-01-02 06:00:00|   7|              53.1|             2|\n",
      "|2020-01-02 06:00:00| 169|            104.09|             3|\n",
      "|2020-01-02 07:00:00|  42|327.32000000000005|            21|\n",
      "|2020-01-02 08:00:00| 174|50.309999999999995|             3|\n",
      "|2020-01-02 10:00:00|  66|             97.67|             5|\n",
      "|2020-01-02 12:00:00|  26|            280.47|            13|\n",
      "|2020-01-02 13:00:00|  89|            121.85|             6|\n",
      "|2020-01-02 14:00:00|  74|1029.3399999999995|            68|\n",
      "|2020-01-02 16:00:00| 236|             16.01|             1|\n",
      "|2020-01-02 16:00:00|  66|257.00000000000006|            12|\n",
      "|2020-01-02 20:00:00|  81|              10.3|             1|\n",
      "|2020-01-03 09:00:00| 223|            131.51|            12|\n",
      "|2020-01-03 09:00:00| 222|            359.22|            11|\n",
      "|2020-01-03 13:00:00|  74| 726.8199999999997|            54|\n",
      "|2020-01-03 15:00:00|  67|417.66999999999996|             9|\n",
      "+-------------------+----+------------------+--------------+\n",
      "only showing top 20 rows\n",
      "\n"
     ]
    }
   ],
   "source": [
    "df_green_revenue.show()"
   ]
  },
  {
   "cell_type": "code",
   "execution_count": 8,
   "id": "21f1a87e",
   "metadata": {},
   "outputs": [],
   "source": [
    "df_green_revenue = df_green.filter(\"lpep_pickup_datetime >= '2020-01-01 00:00:00'\") \\\n",
    "    .withColumn(\"hour\", F.date_trunc(\"hour\", \"lpep_pickup_datetime\")) \\\n",
    "    .groupBy(\"hour\", \"PULocationID\") \\\n",
    "    .agg({\"total_amount\": \"sum\", \"*\": \"count\"}) \\\n",
    "    .withColumnRenamed(\"sum(total_amount)\", \"amount\") \\\n",
    "    .withColumnRenamed(\"count(1)\", \"number_records\") \\\n",
    "    .orderBy(\"hour\",\"PULocationID\") \n",
    "\n"
   ]
  },
  {
   "cell_type": "code",
   "execution_count": 75,
   "id": "4d6dc104",
   "metadata": {},
   "outputs": [],
   "source": [
    "df_green_revenue.write.parquet('data/report/revenue/green', mode=\"overwrite\")"
   ]
  },
  {
   "cell_type": "code",
   "execution_count": 66,
   "id": "13206b13",
   "metadata": {},
   "outputs": [
    {
     "data": {
      "text/plain": [
       "['VendorID',\n",
       " 'tpep_pickup_datetime',\n",
       " 'tpep_dropoff_datetime',\n",
       " 'passenger_count',\n",
       " 'trip_distance',\n",
       " 'RatecodeID',\n",
       " 'store_and_fwd_flag',\n",
       " 'PULocationID',\n",
       " 'DOLocationID',\n",
       " 'payment_type',\n",
       " 'fare_amount',\n",
       " 'extra',\n",
       " 'mta_tax',\n",
       " 'tip_amount',\n",
       " 'tolls_amount',\n",
       " 'improvement_surcharge',\n",
       " 'total_amount',\n",
       " 'congestion_surcharge']"
      ]
     },
     "execution_count": 66,
     "metadata": {},
     "output_type": "execute_result"
    }
   ],
   "source": [
    "df_yellow.columns"
   ]
  },
  {
   "cell_type": "code",
   "execution_count": 71,
   "id": "3dfa89f5",
   "metadata": {},
   "outputs": [],
   "source": [
    "df_yellow_revenue = df_yellow.filter(\"tpep_pickup_datetime >= '2020-01-01 00:00:00'\") \\\n",
    "    .withColumn(\"hour\", F.date_trunc(\"hour\", \"tpep_pickup_datetime\")) \\\n",
    "    .groupBy(\"hour\", \"PULocationID\") \\\n",
    "    .agg({\"total_amount\": \"sum\", \"*\": \"count\"}) \\\n",
    "    .withColumnRenamed(\"sum(total_amount)\", \"amount\") \\\n",
    "    .withColumnRenamed(\"count(1)\", \"number_records\") \\\n",
    "    .orderBy(\"hour\",\"PULocationID\") "
   ]
  },
  {
   "cell_type": "code",
   "execution_count": 73,
   "id": "61e47732",
   "metadata": {},
   "outputs": [],
   "source": [
    "df_yellow_revenue.write.parquet('data/report/revenue/yellow', mode=\"overwrite\")"
   ]
  },
  {
   "cell_type": "code",
   "execution_count": 77,
   "id": "63b3f6e8",
   "metadata": {},
   "outputs": [],
   "source": [
    "df_green_revenue_tmp = df_green_revenue \\\n",
    "    .withColumnRenamed('amount', 'green_amount') \\\n",
    "    .withColumnRenamed('number_records', 'green_number_records')\n",
    "\n",
    "df_yellow_revenue_tmp = df_yellow_revenue \\\n",
    "    .withColumnRenamed('amount', 'yellow_amount') \\\n",
    "    .withColumnRenamed('number_records', 'yellow_number_records')"
   ]
  },
  {
   "cell_type": "code",
   "execution_count": 80,
   "id": "d89c254f",
   "metadata": {},
   "outputs": [],
   "source": [
    "df_join = df_green_revenue_tmp.join(df_yellow_revenue_tmp, on=['hour', 'PULocationID'], how='outer')"
   ]
  },
  {
   "cell_type": "code",
   "execution_count": 81,
   "id": "2cac563c",
   "metadata": {},
   "outputs": [],
   "source": [
    "df_join.write.parquet('data/report/revenue/total', mode='overwrite')"
   ]
  }
 ],
 "metadata": {
  "celltoolbar": "Raw Cell Format",
  "kernelspec": {
   "display_name": "Python 3 (ipykernel)",
   "language": "python",
   "name": "python3"
  },
  "language_info": {
   "codemirror_mode": {
    "name": "ipython",
    "version": 3
   },
   "file_extension": ".py",
   "mimetype": "text/x-python",
   "name": "python",
   "nbconvert_exporter": "python",
   "pygments_lexer": "ipython3",
   "version": "3.11.1"
  }
 },
 "nbformat": 4,
 "nbformat_minor": 5
}
